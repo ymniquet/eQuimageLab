{
 "cells": [
  {
   "cell_type": "markdown",
   "id": "d453a95e-9ae9-4d05-8e98-dd87b9608bcf",
   "metadata": {},
   "source": [
    "### Import eQuimageLab and start dashboard:"
   ]
  },
  {
   "cell_type": "code",
   "execution_count": null,
   "id": "080ab831-0b46-4d00-b0d4-4e6b9b572808",
   "metadata": {},
   "outputs": [],
   "source": [
    "import equimagelab as eqlab\n",
    "dbrd = eqlab.Dashboard() # Start the dashboard."
   ]
  },
  {
   "cell_type": "markdown",
   "id": "36c482a7-5fdb-4653-83ea-46776bd26486",
   "metadata": {},
   "source": [
    "### Set parameters:"
   ]
  },
  {
   "cell_type": "code",
   "execution_count": null,
   "id": "a381cacd-f974-4afd-943b-340b5c816bee",
   "metadata": {},
   "outputs": [],
   "source": [
    "eqlab.set_RGB_luma(\"human\") # Set luma components."
   ]
  },
  {
   "cell_type": "code",
   "execution_count": null,
   "id": "79419431-d197-4b97-9f9c-efca68a6523c",
   "metadata": {},
   "outputs": [],
   "source": [
    "eqlab.params.set_figure_max_width(1024) # Max display width.\n",
    "eqlab.params.set_image_sampling(2) # Image downsampling rate for display (reduces image resolution but speeds up display)."
   ]
  },
  {
   "cell_type": "markdown",
   "id": "ddf72514-64e6-4afc-8a99-16b8590ba470",
   "metadata": {},
   "source": [
    "### Load image:"
   ]
  },
  {
   "cell_type": "code",
   "execution_count": null,
   "id": "a2f86fb4-a3e2-402d-b3fc-d587ab77dcab",
   "metadata": {},
   "outputs": [],
   "source": [
    "original, meta = eqlab.load_image(\"/local/niquet/Desktop/Astro/starless_r_pp_M17_stacked_post.fit\")\n",
    "dbrd.show(original, histograms = True, statistics = True)"
   ]
  },
  {
   "cell_type": "markdown",
   "id": "9fda9469-d8ba-4400-a9d8-81cfb1cebf42",
   "metadata": {},
   "source": [
    "### Set black point:"
   ]
  },
  {
   "cell_type": "code",
   "execution_count": null,
   "id": "fe2c9926-828a-452f-9e34-81b25c30a58a",
   "metadata": {},
   "outputs": [],
   "source": [
    "blackpnt = original.set_black_point(channels = \"RGB\", shadow = .00079)\n",
    "dbrd.show_t(blackpnt)"
   ]
  },
  {
   "cell_type": "markdown",
   "id": "e136c883-3382-4402-bbdf-671592493cec",
   "metadata": {},
   "source": [
    "### Stretch image:\n"
   ]
  },
  {
   "cell_type": "code",
   "execution_count": null,
   "id": "53bff88e-5aec-4ca3-abc6-3569308de54f",
   "metadata": {},
   "outputs": [],
   "source": [
    "ghs1 = blackpnt.ghyperbolic_stretch(channels = \"RGB\", lnD1 = 5., b = 10., SYP = 0.)\n",
    "dbrd.show_t(ghs1)"
   ]
  },
  {
   "cell_type": "code",
   "execution_count": null,
   "id": "bfa8a90a-e71c-49c5-ad29-4492535d5cd0",
   "metadata": {},
   "outputs": [],
   "source": [
    "stretched = ghs1.adjust_midtone_levels(channels = \"RGB\", midtone = .4)\n",
    "dbrd.show_t(stretched)"
   ]
  },
  {
   "cell_type": "markdown",
   "id": "d0a23319-359b-4105-bcaf-bb4b4d1ff89b",
   "metadata": {},
   "source": [
    "### Reduce noise & enhance image:"
   ]
  },
  {
   "cell_type": "code",
   "execution_count": null,
   "id": "5a1ef99b-5f22-4317-8553-7f641930703c",
   "metadata": {},
   "outputs": [],
   "source": [
    "blurred = stretched.gaussian_filter(sigma = 5.)\n",
    "dbrd.show((blurred, stretched))"
   ]
  },
  {
   "cell_type": "code",
   "execution_count": null,
   "id": "f277cad3-d495-47cc-8a53-941452fe8b83",
   "metadata": {},
   "outputs": [],
   "source": [
    "enhanced = blurred.blend(stretched, 1.5*eqlab.mts(stretched.luma(), .05))\n",
    "dbrd.show((enhanced, stretched))"
   ]
  },
  {
   "cell_type": "markdown",
   "id": "254b598e-5c12-4315-a8ca-ebc78d5fb36c",
   "metadata": {},
   "source": [
    "### Adjust colors:"
   ]
  },
  {
   "cell_type": "code",
   "execution_count": null,
   "id": "cbc0bd44-06cd-4866-82b8-78a68ab3cce9",
   "metadata": {},
   "outputs": [],
   "source": [
    "scnr = enhanced.SCNR(hue = \"green\", protection = \"avgneutral\", lightness = True)\n",
    "dbrd.show((scnr, enhanced))"
   ]
  },
  {
   "cell_type": "code",
   "execution_count": null,
   "id": "83abeb41-a64e-4ad6-bc86-410570e927b9",
   "metadata": {},
   "outputs": [],
   "source": [
    "saturated = scnr.color_saturation(A = .2, model = \"midsat\", interpolation = \"cubic\")\n",
    "dbrd.show_t(saturated)"
   ]
  },
  {
   "cell_type": "markdown",
   "id": "d62a059b-ba89-482b-8b9a-5ea553886605",
   "metadata": {},
   "source": [
    "### Fine tune levels:"
   ]
  },
  {
   "cell_type": "code",
   "execution_count": null,
   "id": "c0b30336-4526-4864-bebf-5de419f3b085",
   "metadata": {},
   "outputs": [],
   "source": [
    "final = saturated.adjust_midtone_levels(shadow = .05, midtone = .45)\n",
    "dbrd.show_t(final)"
   ]
  },
  {
   "cell_type": "markdown",
   "id": "b32a28a0-d6c6-4abc-a79c-682b33cfd696",
   "metadata": {},
   "source": [
    "### Rescale image:"
   ]
  },
  {
   "cell_type": "code",
   "execution_count": null,
   "id": "216334f3-f1af-4c87-a28f-997c8401f156",
   "metadata": {},
   "outputs": [],
   "source": [
    "rescaled = final.rescale(2)\n",
    "print(final, \"->\", rescaled)"
   ]
  }
 ],
 "metadata": {
  "kernelspec": {
   "display_name": "Python 3 (ipykernel)",
   "language": "python",
   "name": "python3"
  },
  "language_info": {
   "codemirror_mode": {
    "name": "ipython",
    "version": 3
   },
   "file_extension": ".py",
   "mimetype": "text/x-python",
   "name": "python",
   "nbconvert_exporter": "python",
   "pygments_lexer": "ipython3",
   "version": "3.8.10"
  }
 },
 "nbformat": 4,
 "nbformat_minor": 5
}
