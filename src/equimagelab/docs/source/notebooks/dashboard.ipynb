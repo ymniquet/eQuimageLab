{
 "cells": [
  {
   "cell_type": "markdown",
   "id": "d453a95e-9ae9-4d05-8e98-dd87b9608bcf",
   "metadata": {},
   "source": [
    "### Import eQuimageLab and start dashboard:"
   ]
  },
  {
   "cell_type": "code",
   "execution_count": 1,
   "id": "080ab831-0b46-4d00-b0d4-4e6b9b572808",
   "metadata": {
    "execution": {
     "iopub.execute_input": "2025-03-07T12:52:50.279465Z",
     "iopub.status.busy": "2025-03-07T12:52:50.279260Z",
     "iopub.status.idle": "2025-03-07T12:52:51.065900Z",
     "shell.execute_reply": "2025-03-07T12:52:51.064829Z",
     "shell.execute_reply.started": "2025-03-07T12:52:50.279452Z"
    }
   },
   "outputs": [
    {
     "name": "stdout",
     "output_type": "stream",
     "text": [
      "###########################################\n",
      "# Welcome to eQuimageLab version 1.3.0... #\n",
      "###########################################\n",
      "Documentation available at: https://astro.ymniquet.fr/codes/equimagelab/docs/\n",
      "Luma = 0.2127R+0.7152G+0.0722B.\n",
      "Dash app running on http://127.0.0.1:8050/\n"
     ]
    }
   ],
   "source": [
    "import equimagelab as eqlab\n",
    "dbrd = eqlab.Dashboard() # Start the dashboard."
   ]
  },
  {
   "cell_type": "markdown",
   "id": "36c482a7-5fdb-4653-83ea-46776bd26486",
   "metadata": {},
   "source": [
    "### Set parameters:"
   ]
  },
  {
   "cell_type": "code",
   "execution_count": 2,
   "id": "79419431-d197-4b97-9f9c-efca68a6523c",
   "metadata": {
    "execution": {
     "iopub.execute_input": "2025-03-07T12:52:51.066614Z",
     "iopub.status.busy": "2025-03-07T12:52:51.066447Z",
     "iopub.status.idle": "2025-03-07T12:52:51.068422Z",
     "shell.execute_reply": "2025-03-07T12:52:51.068101Z",
     "shell.execute_reply.started": "2025-03-07T12:52:51.066604Z"
    }
   },
   "outputs": [],
   "source": [
    "eqlab.params.set_figure_max_width(1024) # Max display width.\n",
    "eqlab.params.set_image_sampling(1) # Image downsampling rate for display (reduces image resolution but speeds up display)."
   ]
  },
  {
   "cell_type": "markdown",
   "id": "ddf72514-64e6-4afc-8a99-16b8590ba470",
   "metadata": {},
   "source": [
    "### Load and display image:"
   ]
  },
  {
   "cell_type": "code",
   "execution_count": 3,
   "id": "a2f86fb4-a3e2-402d-b3fc-d587ab77dcab",
   "metadata": {
    "execution": {
     "iopub.execute_input": "2025-03-07T12:52:51.068773Z",
     "iopub.status.busy": "2025-03-07T12:52:51.068671Z",
     "iopub.status.idle": "2025-03-07T12:52:51.984891Z",
     "shell.execute_reply": "2025-03-07T12:52:51.984648Z",
     "shell.execute_reply.started": "2025-03-07T12:52:51.068766Z"
    }
   },
   "outputs": [
    {
     "name": "stdout",
     "output_type": "stream",
     "text": [
      "Loading file NGC6888.png...\n",
      "Format = PNG.\n",
      "Image size = 2400x1800 pixels.\n",
      "Number of channels = 3.\n",
      "Data type = uint8.\n",
      "Bit depth per channel = 8.\n",
      "Bit depth per pixel = 24.\n",
      "Channel #0: minimum = 0.03529, maximum = 1.00000.\n",
      "Channel #1: minimum = 0.01176, maximum = 0.97255.\n",
      "Channel #2: minimum = 0.00000, maximum = 0.99216.\n",
      "Succesfully read EXIF data...\n"
     ]
    }
   ],
   "source": [
    "original, meta = eqlab.load_image(\"NGC6888.png\")\n",
    "dbrd.show(original, histograms = True, statistics = True)"
   ]
  }
 ],
 "metadata": {
  "kernelspec": {
   "display_name": "Python 3 (ipykernel)",
   "language": "python",
   "name": "python3"
  },
  "language_info": {
   "codemirror_mode": {
    "name": "ipython",
    "version": 3
   },
   "file_extension": ".py",
   "mimetype": "text/x-python",
   "name": "python",
   "nbconvert_exporter": "python",
   "pygments_lexer": "ipython3",
   "version": "3.12.3"
  }
 },
 "nbformat": 4,
 "nbformat_minor": 5
}
