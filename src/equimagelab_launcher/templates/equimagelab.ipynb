{
 "cells": [
  {
   "cell_type": "markdown",
   "id": "d453a95e-9ae9-4d05-8e98-dd87b9608bcf",
   "metadata": {},
   "source": [
    "### Import eQuimageLab and start dashboard:"
   ]
  },
  {
   "cell_type": "code",
   "execution_count": null,
   "id": "080ab831-0b46-4d00-b0d4-4e6b9b572808",
   "metadata": {},
   "outputs": [],
   "source": [
    "import equimagelab as eqlab\n",
    "dbrd = eqlab.Dashboard() # Start the dashboard."
   ]
  },
  {
   "cell_type": "markdown",
   "id": "36c482a7-5fdb-4653-83ea-46776bd26486",
   "metadata": {},
   "source": [
    "### Set parameters:"
   ]
  },
  {
   "cell_type": "code",
   "execution_count": null,
   "id": "a381cacd-f974-4afd-943b-340b5c816bee",
   "metadata": {},
   "outputs": [],
   "source": [
    "eqlab.set_RGB_luma(\"human\") # Set luma components."
   ]
  },
  {
   "cell_type": "code",
   "execution_count": null,
   "id": "79419431-d197-4b97-9f9c-efca68a6523c",
   "metadata": {},
   "outputs": [],
   "source": [
    "eqlab.params.set_figure_max_width(1024) # Max display width.\n",
    "eqlab.params.set_image_sampling(1) # Image downsampling rate for display (reduces image resolution but speeds up display)."
   ]
  },
  {
   "cell_type": "markdown",
   "id": "ddf72514-64e6-4afc-8a99-16b8590ba470",
   "metadata": {},
   "source": [
    "### Load image:"
   ]
  },
  {
   "cell_type": "code",
   "execution_count": null,
   "id": "a2f86fb4-a3e2-402d-b3fc-d587ab77dcab",
   "metadata": {},
   "outputs": [],
   "source": [
    "original, meta = eqlab.load_image(\"...\")\n",
    "dbrd.show(original, histograms = True, statistics = True)"
   ]
  }
 ],
 "metadata": {
  "kernelspec": {
   "display_name": "Python 3 (ipykernel)",
   "language": "python",
   "name": "python3"
  },
  "language_info": {
   "codemirror_mode": {
    "name": "ipython",
    "version": 3
   },
   "file_extension": ".py",
   "mimetype": "text/x-python",
   "name": "python",
   "nbconvert_exporter": "python",
   "pygments_lexer": "ipython3",
   "version": "3.8.10"
  }
 },
 "nbformat": 4,
 "nbformat_minor": 5
}
