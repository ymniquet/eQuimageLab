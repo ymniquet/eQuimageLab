{
 "cells": [
  {
   "cell_type": "markdown",
   "id": "d453a95e-9ae9-4d05-8e98-dd87b9608bcf",
   "metadata": {},
   "source": [
    "### Import eQuimageLab and start dashboard:"
   ]
  },
  {
   "cell_type": "code",
   "execution_count": 1,
   "id": "080ab831-0b46-4d00-b0d4-4e6b9b572808",
   "metadata": {
    "execution": {
     "iopub.execute_input": "2025-03-07T12:55:28.162927Z",
     "iopub.status.busy": "2025-03-07T12:55:28.162851Z",
     "iopub.status.idle": "2025-03-07T12:55:28.962757Z",
     "shell.execute_reply": "2025-03-07T12:55:28.962155Z",
     "shell.execute_reply.started": "2025-03-07T12:55:28.162920Z"
    }
   },
   "outputs": [
    {
     "name": "stdout",
     "output_type": "stream",
     "text": [
      "###########################################\n",
      "# Welcome to eQuimageLab version 1.3.0... #\n",
      "###########################################\n",
      "Documentation available at: https://astro.ymniquet.fr/codes/equimagelab/docs/\n",
      "Luma = 0.2127R+0.7152G+0.0722B.\n",
      "Dash app running on http://127.0.0.1:8050/\n"
     ]
    }
   ],
   "source": [
    "import equimagelab as eqlab\n",
    "dbrd = eqlab.Dashboard() # Start the dashboard."
   ]
  },
  {
   "cell_type": "markdown",
   "id": "36c482a7-5fdb-4653-83ea-46776bd26486",
   "metadata": {},
   "source": [
    "### Set parameters:"
   ]
  },
  {
   "cell_type": "code",
   "execution_count": 2,
   "id": "79419431-d197-4b97-9f9c-efca68a6523c",
   "metadata": {
    "execution": {
     "iopub.execute_input": "2025-03-07T12:55:28.963252Z",
     "iopub.status.busy": "2025-03-07T12:55:28.963099Z",
     "iopub.status.idle": "2025-03-07T12:55:28.965269Z",
     "shell.execute_reply": "2025-03-07T12:55:28.964995Z",
     "shell.execute_reply.started": "2025-03-07T12:55:28.963243Z"
    }
   },
   "outputs": [],
   "source": [
    "eqlab.params.set_figure_max_width(1024) # Max display width.\n",
    "eqlab.params.set_image_sampling(1) # Image downsampling rate for display (reduces image resolution but speeds up display).\n",
    "eqlab.equimage.params.set_default_hist_bins(128)"
   ]
  },
  {
   "cell_type": "markdown",
   "id": "ddf72514-64e6-4afc-8a99-16b8590ba470",
   "metadata": {},
   "source": [
    "### Load and display image:"
   ]
  },
  {
   "cell_type": "code",
   "execution_count": 3,
   "id": "a2f86fb4-a3e2-402d-b3fc-d587ab77dcab",
   "metadata": {
    "execution": {
     "iopub.execute_input": "2025-03-07T12:55:28.965572Z",
     "iopub.status.busy": "2025-03-07T12:55:28.965505Z",
     "iopub.status.idle": "2025-03-07T12:55:29.640925Z",
     "shell.execute_reply": "2025-03-07T12:55:29.640371Z",
     "shell.execute_reply.started": "2025-03-07T12:55:28.965565Z"
    }
   },
   "outputs": [
    {
     "name": "stdout",
     "output_type": "stream",
     "text": [
      "Loading file NGC6946.png...\n",
      "Format = PNG.\n",
      "Image size = 1600x1600 pixels.\n",
      "Number of channels = 3.\n",
      "Data type = uint8.\n",
      "Bit depth per channel = 8.\n",
      "Bit depth per pixel = 24.\n",
      "Channel #0: minimum = 0.00392, maximum = 1.00000.\n",
      "Channel #1: minimum = 0.00392, maximum = 0.94902.\n",
      "Channel #2: minimum = 0.00392, maximum = 1.00000.\n",
      "Succesfully read EXIF data...\n"
     ]
    }
   ],
   "source": [
    "original, meta = eqlab.load_image(\"NGC6946.png\")\n",
    "dbrd.show(original, histograms = True, statistics = True)"
   ]
  },
  {
   "cell_type": "markdown",
   "id": "ce5cbdb9-9995-4a58-b305-ab2030031136",
   "metadata": {},
   "source": [
    "### Unstretch the image..."
   ]
  },
  {
   "cell_type": "code",
   "execution_count": 4,
   "id": "17541fd2-cf55-46d4-9c59-1c21a28102a7",
   "metadata": {
    "execution": {
     "iopub.execute_input": "2025-03-07T12:55:29.641313Z",
     "iopub.status.busy": "2025-03-07T12:55:29.641230Z",
     "iopub.status.idle": "2025-03-07T12:55:30.517249Z",
     "shell.execute_reply": "2025-03-07T12:55:30.516626Z",
     "shell.execute_reply.started": "2025-03-07T12:55:29.641305Z"
    }
   },
   "outputs": [],
   "source": [
    "unstretched = original.midtone_stretch(channels = \"L\", midtone = .15, inverse = True)\n",
    "dbrd.show_t(unstretched)"
   ]
  },
  {
   "cell_type": "markdown",
   "id": "9426732c-530b-4f24-ade7-3646475f1246",
   "metadata": {
    "execution": {
     "iopub.execute_input": "2024-12-20T16:48:47.247323Z",
     "iopub.status.busy": "2024-12-20T16:48:47.247009Z",
     "iopub.status.idle": "2024-12-20T16:48:47.251054Z",
     "shell.execute_reply": "2024-12-20T16:48:47.250553Z",
     "shell.execute_reply.started": "2024-12-20T16:48:47.247289Z"
    }
   },
   "source": [
    "### ...and restretch it !"
   ]
  },
  {
   "cell_type": "code",
   "execution_count": 5,
   "id": "6a7d73d2-d96c-4203-8c41-38633941b298",
   "metadata": {
    "execution": {
     "iopub.execute_input": "2025-03-07T12:55:30.517632Z",
     "iopub.status.busy": "2025-03-07T12:55:30.517549Z",
     "iopub.status.idle": "2025-03-07T12:55:31.412140Z",
     "shell.execute_reply": "2025-03-07T12:55:31.411724Z",
     "shell.execute_reply.started": "2025-03-07T12:55:30.517625Z"
    }
   },
   "outputs": [],
   "source": [
    "stretched = unstretched.midtone_stretch(channels = \"L\", midtone = .15)\n",
    "dbrd.show_t(stretched)"
   ]
  },
  {
   "cell_type": "markdown",
   "id": "efe5960a-dfbd-4bf0-83fa-69f6b630a44f",
   "metadata": {},
   "source": [
    "### Show before/after slider:"
   ]
  },
  {
   "cell_type": "code",
   "execution_count": 6,
   "id": "d17bdc47-f8a9-46a0-aedc-4e1074aee7f3",
   "metadata": {
    "execution": {
     "iopub.execute_input": "2025-03-07T12:55:31.412885Z",
     "iopub.status.busy": "2025-03-07T12:55:31.412806Z",
     "iopub.status.idle": "2025-03-07T12:55:31.697783Z",
     "shell.execute_reply": "2025-03-07T12:55:31.697449Z",
     "shell.execute_reply.started": "2025-03-07T12:55:31.412878Z"
    }
   },
   "outputs": [],
   "source": [
    "dbrd.slider(stretched, unstretched)"
   ]
  },
  {
   "cell_type": "markdown",
   "id": "e9e5205a-a04e-4dcc-85c6-40bb3a2a7ea0",
   "metadata": {},
   "source": [
    "### Show carousel:"
   ]
  },
  {
   "cell_type": "code",
   "execution_count": 7,
   "id": "16b8b698-b8b5-432a-a937-a0019a778931",
   "metadata": {
    "execution": {
     "iopub.execute_input": "2025-03-07T12:55:31.698117Z",
     "iopub.status.busy": "2025-03-07T12:55:31.698042Z",
     "iopub.status.idle": "2025-03-07T12:55:31.980979Z",
     "shell.execute_reply": "2025-03-07T12:55:31.980620Z",
     "shell.execute_reply.started": "2025-03-07T12:55:31.698110Z"
    }
   },
   "outputs": [],
   "source": [
    "dbrd.carousel((stretched, unstretched))"
   ]
  }
 ],
 "metadata": {
  "kernelspec": {
   "display_name": "Python 3 (ipykernel)",
   "language": "python",
   "name": "python3"
  },
  "language_info": {
   "codemirror_mode": {
    "name": "ipython",
    "version": 3
   },
   "file_extension": ".py",
   "mimetype": "text/x-python",
   "name": "python",
   "nbconvert_exporter": "python",
   "pygments_lexer": "ipython3",
   "version": "3.12.3"
  }
 },
 "nbformat": 4,
 "nbformat_minor": 5
}
