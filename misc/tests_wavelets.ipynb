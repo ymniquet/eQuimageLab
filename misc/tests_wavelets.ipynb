{
 "cells": [
  {
   "cell_type": "code",
   "execution_count": null,
   "id": "47b67cec-110e-4a9e-8a7c-8c3dbae17cc8",
   "metadata": {},
   "outputs": [],
   "source": [
    "import numpy as np\n",
    "import pywt\n",
    "import equimagelab as eqlab\n",
    "dbrd = eqlab.Dashboard(port = 8050, debug = True) # Start the dashboard."
   ]
  },
  {
   "cell_type": "markdown",
   "id": "19f35023-c555-4cc6-8d8d-0cdc1dd3c39c",
   "metadata": {},
   "source": [
    "# Load image and convert to B&W:"
   ]
  },
  {
   "cell_type": "code",
   "execution_count": null,
   "id": "4a87c313-e58a-4af0-916f-d3f86d459166",
   "metadata": {},
   "outputs": [],
   "source": [
    "image, meta = eqlab.load_image(\"M45.png\")"
   ]
  },
  {
   "cell_type": "code",
   "execution_count": null,
   "id": "d0821b6e-f59b-4b92-873a-779575aaeb5d",
   "metadata": {},
   "outputs": [],
   "source": [
    "bwimage = image.grayscale(channel = \"L*\")"
   ]
  },
  {
   "cell_type": "code",
   "execution_count": null,
   "id": "c8a37f95-151b-4b97-a737-e70326f0fba0",
   "metadata": {},
   "outputs": [],
   "source": [
    "eqlab.show(bwimage)\n",
    "dbrd.show(bwimage, histograms = True, statistics = True)"
   ]
  },
  {
   "cell_type": "markdown",
   "id": "4e31ac32-4194-4d30-b0f8-c652d383280d",
   "metadata": {},
   "source": [
    "# Test wavelets transform:"
   ]
  },
  {
   "cell_type": "code",
   "execution_count": null,
   "id": "69464b06-6ea1-435a-8c91-cae823203209",
   "metadata": {},
   "outputs": [],
   "source": [
    "wt = bwimage.slt(starlet = \"cubic\", levels = 6, mode = \"reflect\")"
   ]
  },
  {
   "cell_type": "code",
   "execution_count": null,
   "id": "d521266c-568a-4b15-b1ab-2f0ea61e6c12",
   "metadata": {},
   "outputs": [],
   "source": [
    "dbrd.show_wavelets(wt, absc = True, normalize = True)"
   ]
  },
  {
   "cell_type": "code",
   "execution_count": null,
   "id": "2f278f04-3ecf-4a72-8e81-0af33f3a59ad",
   "metadata": {},
   "outputs": [],
   "source": [
    "backward = wt.iwt()"
   ]
  },
  {
   "cell_type": "code",
   "execution_count": null,
   "id": "4a0423c2-8527-419b-b7e2-5fe1b677a01a",
   "metadata": {},
   "outputs": [],
   "source": [
    "diff = abs(backward-bwimage)\n",
    "print(np.max(diff))"
   ]
  },
  {
   "cell_type": "markdown",
   "id": "f9f0f56b-3f5b-4bc2-a8e9-f9094ae07506",
   "metadata": {},
   "source": [
    "# Additive gaussian noise:"
   ]
  },
  {
   "cell_type": "code",
   "execution_count": null,
   "id": "44cfabc2-34aa-4b15-9bc9-9965c66bf259",
   "metadata": {},
   "outputs": [],
   "source": [
    "noise = 0.033\n",
    "noisy = bwimage+noise*np.random.normal(size = bwimage.get_shape())"
   ]
  },
  {
   "cell_type": "code",
   "execution_count": null,
   "id": "daf4c92a-0c74-4d80-96bf-986a051ce400",
   "metadata": {},
   "outputs": [],
   "source": [
    "eqlab.show(noisy)\n",
    "dbrd.show((noisy, bwimage), histograms = True, statistics = True)"
   ]
  },
  {
   "cell_type": "code",
   "execution_count": null,
   "id": "9c186947-f698-474c-a102-5379e7cc8995",
   "metadata": {},
   "outputs": [],
   "source": [
    "wt = noisy.slt(starlet = \"cubic\", levels = 6, mode = \"reflect\")"
   ]
  },
  {
   "cell_type": "code",
   "execution_count": null,
   "id": "a932d592-3156-4184-96e2-f5e6afbcc6aa",
   "metadata": {},
   "outputs": [],
   "source": [
    "clip = wt.VisuShrink_clip()\n",
    "clip = 3.\n",
    "print(f\"Clip = {clip}.\")"
   ]
  },
  {
   "cell_type": "code",
   "execution_count": null,
   "id": "3b21fa9c-b77a-44f1-8ca3-af3bb75eb275",
   "metadata": {},
   "outputs": [],
   "source": [
    "estnoise = wt.estimate_noise(clip = clip)[1][0]\n",
    "print(f\"Estimated noise = {estnoise}.\")"
   ]
  },
  {
   "cell_type": "code",
   "execution_count": null,
   "id": "09c7637a-5987-42c0-917e-2e18d3eb9edb",
   "metadata": {},
   "outputs": [],
   "source": [
    "denoised1, diff1 = wt.iterative_noise_reduction(clip = clip, eps = 1.e-6, maxit = 0)"
   ]
  },
  {
   "cell_type": "code",
   "execution_count": null,
   "id": "ed3a58e8-746a-41f8-b524-8e5ab8d594ba",
   "metadata": {},
   "outputs": [],
   "source": [
    "denoised, diff = wt.iterative_noise_reduction(clip = clip, eps = 1.e-6, maxit = 24)"
   ]
  },
  {
   "cell_type": "code",
   "execution_count": null,
   "id": "46a8e057-6688-4f81-927e-76018203df10",
   "metadata": {},
   "outputs": [],
   "source": [
    "eqlab.show(denoised)\n",
    "dbrd.show({\"Original\": bwimage, \"Noisy\": noisy, \"Single\": denoised1, \"Iterative\": denoised, \"Single diff\": 7.*abs(diff1), \"Iterative diff\": 7.*abs(diff)}, histograms = True, statistics = True)"
   ]
  },
  {
   "cell_type": "markdown",
   "id": "aa59ab8e-6de3-4ed0-bc13-7013e8d34f3f",
   "metadata": {},
   "source": [
    "# Poisson noise:"
   ]
  },
  {
   "cell_type": "code",
   "execution_count": null,
   "id": "2310d6e1-0ae4-48d7-815b-885fc30cb471",
   "metadata": {},
   "outputs": [],
   "source": [
    "poisson = 33\n",
    "noisy = eqlab.Image(np.random.poisson(poisson*bwimage))/poisson"
   ]
  },
  {
   "cell_type": "code",
   "execution_count": null,
   "id": "386d08bb-9a4a-45ef-b8da-7196a4d2fd8c",
   "metadata": {},
   "outputs": [],
   "source": [
    "eqlab.show(noisy)\n",
    "dbrd.show((noisy, bwimage), histograms = True, statistics = True)"
   ]
  },
  {
   "cell_type": "markdown",
   "id": "981b6417-2014-4236-b8be-fa1ad6691d36",
   "metadata": {},
   "source": [
    "### Without Anscombe transform:"
   ]
  },
  {
   "cell_type": "code",
   "execution_count": null,
   "id": "1623cbe0-ef40-445e-8fe0-e8ff4d6dd2b6",
   "metadata": {},
   "outputs": [],
   "source": [
    "wt = noisy.slt(starlet = \"cubic\", levels = 6, mode = \"reflect\")"
   ]
  },
  {
   "cell_type": "code",
   "execution_count": null,
   "id": "71e389ef-1a9a-4bed-89ee-fca684f5c316",
   "metadata": {},
   "outputs": [],
   "source": [
    "clip = wt.VisuShrink_clip()\n",
    "clip = 3.\n",
    "print(f\"Clip = {clip}.\")"
   ]
  },
  {
   "cell_type": "code",
   "execution_count": null,
   "id": "23fae4a5-b59a-4495-948a-73093e27f059",
   "metadata": {},
   "outputs": [],
   "source": [
    "estnoise = wt.estimate_noise(clip = clip)[1][0]\n",
    "print(f\"Estimated noise = {estnoise}.\")"
   ]
  },
  {
   "cell_type": "code",
   "execution_count": null,
   "id": "f10cd238-ee95-4607-bbf3-ca787f660cdc",
   "metadata": {},
   "outputs": [],
   "source": [
    "denoised1, diff1 = wt.iterative_noise_reduction(clip = clip, eps = 1.e-6, maxit = 0)"
   ]
  },
  {
   "cell_type": "code",
   "execution_count": null,
   "id": "43eab1ed-57ac-49ef-b5ac-2c0633f37c9f",
   "metadata": {},
   "outputs": [],
   "source": [
    "denoised, diff = wt.iterative_noise_reduction(clip = clip, eps = 1.e-6, maxit = 24)"
   ]
  },
  {
   "cell_type": "code",
   "execution_count": null,
   "id": "14d20738-6c8c-43b6-a93a-2b9cdb19efee",
   "metadata": {},
   "outputs": [],
   "source": [
    "eqlab.show(denoised)\n",
    "dbrd.show({\"Original\": bwimage, \"Noisy\": noisy, \"Single\": denoised1, \"Iterative\": denoised, \"Single diff\": 4.*abs(diff1), \"Iterative diff\": 4.*abs(diff)}, histograms = True, statistics = True)"
   ]
  },
  {
   "cell_type": "code",
   "execution_count": null,
   "id": "7cf80021-187b-4fa9-9243-632d86619483",
   "metadata": {},
   "outputs": [],
   "source": [
    "gdenoised, gdiff = denoised, diff"
   ]
  },
  {
   "cell_type": "markdown",
   "id": "b47abf9e-5612-4796-888f-b90fc75bc3c8",
   "metadata": {},
   "source": [
    "### With Anscombe transform:"
   ]
  },
  {
   "cell_type": "code",
   "execution_count": null,
   "id": "963cfe21-38fd-45d3-9b26-a6b68f36aae0",
   "metadata": {},
   "outputs": [],
   "source": [
    "gAt = noisy.anscombe(gain = 1./poisson)"
   ]
  },
  {
   "cell_type": "code",
   "execution_count": null,
   "id": "28c4a1b2-309e-489d-8c73-d9abeed4c674",
   "metadata": {},
   "outputs": [],
   "source": [
    "wt = gAt.slt(starlet = \"cubic\", levels = 6, mode = \"reflect\")"
   ]
  },
  {
   "cell_type": "code",
   "execution_count": null,
   "id": "e3415d5e-9e6d-4eb8-8bc2-0b032b440dcc",
   "metadata": {},
   "outputs": [],
   "source": [
    "clip = wt.VisuShrink_clip()\n",
    "clip = 3.\n",
    "print(f\"Clip = {clip}.\")"
   ]
  },
  {
   "cell_type": "code",
   "execution_count": null,
   "id": "3860002d-762a-4ddc-a67d-e50408c6a61f",
   "metadata": {},
   "outputs": [],
   "source": [
    "estnoise = wt.estimate_noise(clip = clip)[1][0]\n",
    "print(f\"Estimated noise = {estnoise}.\")"
   ]
  },
  {
   "cell_type": "code",
   "execution_count": null,
   "id": "c69da31a-5aaf-43c1-a603-e7ef6f157604",
   "metadata": {},
   "outputs": [],
   "source": [
    "denoisedgAt1, diff1 = wt.iterative_noise_reduction(clip = clip, eps = 1.e-6, maxit = 0)"
   ]
  },
  {
   "cell_type": "code",
   "execution_count": null,
   "id": "ecc9802e-346d-48a5-a334-fc88daeb5128",
   "metadata": {},
   "outputs": [],
   "source": [
    "denoisedgAt, diff = wt.iterative_noise_reduction(clip = clip, eps = 1.e-6, maxit = 24)"
   ]
  },
  {
   "cell_type": "code",
   "execution_count": null,
   "id": "d1da2e48-031d-4110-bcc6-d79d4a704b00",
   "metadata": {},
   "outputs": [],
   "source": [
    "denoised1 = denoisedgAt1.inverse_anscombe(gain = 1./poisson)\n",
    "denoised =  denoisedgAt.inverse_anscombe(gain = 1./poisson)"
   ]
  },
  {
   "cell_type": "code",
   "execution_count": null,
   "id": "01761c29-c4d8-4090-8cac-1895a11b5adc",
   "metadata": {},
   "outputs": [],
   "source": [
    "eqlab.show(denoised)\n",
    "dbrd.show({\"Original\": bwimage, \"Noisy\": noisy, \"Single\": denoised1, \"Iterative\": denoised, \"Single diff\": abs(diff1)/4., \"Iterative diff\":  abs(diff)/4.}, histograms = True, statistics = True)"
   ]
  },
  {
   "cell_type": "markdown",
   "id": "390fd60a-913d-42c9-addf-53f905e0a01b",
   "metadata": {},
   "source": [
    "### Compare with/without Anscombe transform:"
   ]
  },
  {
   "cell_type": "code",
   "execution_count": null,
   "id": "7b01d3c3-368e-4fc4-98ce-d229ec988361",
   "metadata": {},
   "outputs": [],
   "source": [
    "dbrd.show({\"Original\": bwimage, \"Noisy\": noisy, \"With Anscombe\": denoised, \"Without Ascombe\": gdenoised}, histograms = True, statistics = True)"
   ]
  },
  {
   "cell_type": "markdown",
   "id": "955a7a71-b506-4779-88c2-cc3460b2a9f4",
   "metadata": {},
   "source": [
    "### With extra hot & cold pixels correction:"
   ]
  },
  {
   "cell_type": "code",
   "execution_count": null,
   "id": "6dc91695-7866-45e1-a8d2-8a3c0accac2d",
   "metadata": {},
   "outputs": [],
   "source": [
    "gdenoisedhcp = gdenoised.remove_hot_cold_pixels(hot_ratio = 1.1, cold_ratio = 1.1)\n",
    "denoisedhcp = denoised.remove_hot_cold_pixels(hot_ratio = 1.1, cold_ratio = 1.1)"
   ]
  },
  {
   "cell_type": "code",
   "execution_count": null,
   "id": "655b206b-9efa-414a-bbd8-809a9eb9418b",
   "metadata": {},
   "outputs": [],
   "source": [
    "dbrd.show({\"Original\": bwimage, \"Noisy\": noisy, \"With Anscombe\": denoisedhcp, \"Without Ascombe\": gdenoisedhcp}, histograms = True, statistics = True)"
   ]
  }
 ],
 "metadata": {
  "kernelspec": {
   "display_name": "Python 3 (ipykernel)",
   "language": "python",
   "name": "python3"
  },
  "language_info": {
   "codemirror_mode": {
    "name": "ipython",
    "version": 3
   },
   "file_extension": ".py",
   "mimetype": "text/x-python",
   "name": "python",
   "nbconvert_exporter": "python",
   "pygments_lexer": "ipython3",
   "version": "3.12.3"
  }
 },
 "nbformat": 4,
 "nbformat_minor": 5
}
